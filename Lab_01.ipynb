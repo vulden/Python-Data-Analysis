{
 "cells": [
  {
   "cell_type": "code",
   "execution_count": 93,
   "id": "reported-niger",
   "metadata": {},
   "outputs": [],
   "source": [
    "#  Подключаю необходимые библиотеки\n",
    "import numpy as np\n",
    "import pandas as pd\n",
    "import matplotlib\n",
    "import matplotlib.pyplot as plt\n",
    "matplotlib.style.use('ggplot')\n",
    "%matplotlib inline"
   ]
  },
  {
   "cell_type": "code",
   "execution_count": 94,
   "id": "unavailable-cooper",
   "metadata": {},
   "outputs": [],
   "source": [
    "import os\n",
    "os.chdir(\"/home/vladimir/jupyter/pyDA/Lab_01\")\n"
   ]
  },
  {
   "cell_type": "code",
   "execution_count": 95,
   "id": "suspected-heath",
   "metadata": {},
   "outputs": [],
   "source": [
    "df = pd.read_csv('winequality-red.csv', sep=';')"
   ]
  },
  {
   "cell_type": "code",
   "execution_count": 96,
   "id": "handled-presentation",
   "metadata": {},
   "outputs": [
    {
     "data": {
      "text/html": [
       "<div>\n",
       "<style scoped>\n",
       "    .dataframe tbody tr th:only-of-type {\n",
       "        vertical-align: middle;\n",
       "    }\n",
       "\n",
       "    .dataframe tbody tr th {\n",
       "        vertical-align: top;\n",
       "    }\n",
       "\n",
       "    .dataframe thead th {\n",
       "        text-align: right;\n",
       "    }\n",
       "</style>\n",
       "<table border=\"1\" class=\"dataframe\">\n",
       "  <thead>\n",
       "    <tr style=\"text-align: right;\">\n",
       "      <th></th>\n",
       "      <th>fixed acidity</th>\n",
       "      <th>volatile acidity</th>\n",
       "      <th>citric acid</th>\n",
       "      <th>residual sugar</th>\n",
       "      <th>chlorides</th>\n",
       "      <th>free sulfur dioxide</th>\n",
       "      <th>total sulfur dioxide</th>\n",
       "      <th>density</th>\n",
       "      <th>pH</th>\n",
       "      <th>sulphates</th>\n",
       "      <th>alcohol</th>\n",
       "      <th>quality</th>\n",
       "    </tr>\n",
       "  </thead>\n",
       "  <tbody>\n",
       "    <tr>\n",
       "      <th>0</th>\n",
       "      <td>7.4</td>\n",
       "      <td>0.70</td>\n",
       "      <td>0.00</td>\n",
       "      <td>1.9</td>\n",
       "      <td>0.076</td>\n",
       "      <td>11.0</td>\n",
       "      <td>34.0</td>\n",
       "      <td>0.9978</td>\n",
       "      <td>3.51</td>\n",
       "      <td>0.56</td>\n",
       "      <td>9.4</td>\n",
       "      <td>5</td>\n",
       "    </tr>\n",
       "    <tr>\n",
       "      <th>1</th>\n",
       "      <td>7.8</td>\n",
       "      <td>0.88</td>\n",
       "      <td>0.00</td>\n",
       "      <td>2.6</td>\n",
       "      <td>0.098</td>\n",
       "      <td>25.0</td>\n",
       "      <td>67.0</td>\n",
       "      <td>0.9968</td>\n",
       "      <td>3.20</td>\n",
       "      <td>0.68</td>\n",
       "      <td>9.8</td>\n",
       "      <td>5</td>\n",
       "    </tr>\n",
       "    <tr>\n",
       "      <th>2</th>\n",
       "      <td>7.8</td>\n",
       "      <td>0.76</td>\n",
       "      <td>0.04</td>\n",
       "      <td>2.3</td>\n",
       "      <td>0.092</td>\n",
       "      <td>15.0</td>\n",
       "      <td>54.0</td>\n",
       "      <td>0.9970</td>\n",
       "      <td>3.26</td>\n",
       "      <td>0.65</td>\n",
       "      <td>9.8</td>\n",
       "      <td>5</td>\n",
       "    </tr>\n",
       "    <tr>\n",
       "      <th>3</th>\n",
       "      <td>11.2</td>\n",
       "      <td>0.28</td>\n",
       "      <td>0.56</td>\n",
       "      <td>1.9</td>\n",
       "      <td>0.075</td>\n",
       "      <td>17.0</td>\n",
       "      <td>60.0</td>\n",
       "      <td>0.9980</td>\n",
       "      <td>3.16</td>\n",
       "      <td>0.58</td>\n",
       "      <td>9.8</td>\n",
       "      <td>6</td>\n",
       "    </tr>\n",
       "    <tr>\n",
       "      <th>4</th>\n",
       "      <td>7.4</td>\n",
       "      <td>0.70</td>\n",
       "      <td>0.00</td>\n",
       "      <td>1.9</td>\n",
       "      <td>0.076</td>\n",
       "      <td>11.0</td>\n",
       "      <td>34.0</td>\n",
       "      <td>0.9978</td>\n",
       "      <td>3.51</td>\n",
       "      <td>0.56</td>\n",
       "      <td>9.4</td>\n",
       "      <td>5</td>\n",
       "    </tr>\n",
       "  </tbody>\n",
       "</table>\n",
       "</div>"
      ],
      "text/plain": [
       "   fixed acidity  volatile acidity  citric acid  residual sugar  chlorides  \\\n",
       "0            7.4              0.70         0.00             1.9      0.076   \n",
       "1            7.8              0.88         0.00             2.6      0.098   \n",
       "2            7.8              0.76         0.04             2.3      0.092   \n",
       "3           11.2              0.28         0.56             1.9      0.075   \n",
       "4            7.4              0.70         0.00             1.9      0.076   \n",
       "\n",
       "   free sulfur dioxide  total sulfur dioxide  density    pH  sulphates  \\\n",
       "0                 11.0                  34.0   0.9978  3.51       0.56   \n",
       "1                 25.0                  67.0   0.9968  3.20       0.68   \n",
       "2                 15.0                  54.0   0.9970  3.26       0.65   \n",
       "3                 17.0                  60.0   0.9980  3.16       0.58   \n",
       "4                 11.0                  34.0   0.9978  3.51       0.56   \n",
       "\n",
       "   alcohol  quality  \n",
       "0      9.4        5  \n",
       "1      9.8        5  \n",
       "2      9.8        5  \n",
       "3      9.8        6  \n",
       "4      9.4        5  "
      ]
     },
     "execution_count": 96,
     "metadata": {},
     "output_type": "execute_result"
    }
   ],
   "source": [
    "df.head()"
   ]
  },
  {
   "cell_type": "code",
   "execution_count": 97,
   "id": "metric-northeast",
   "metadata": {},
   "outputs": [
    {
     "data": {
      "text/plain": [
       "5    681\n",
       "6    638\n",
       "7    199\n",
       "4     53\n",
       "8     18\n",
       "3     10\n",
       "Name: quality, dtype: int64"
      ]
     },
     "execution_count": 97,
     "metadata": {},
     "output_type": "execute_result"
    }
   ],
   "source": [
    "df['quality'].value_counts()\n"
   ]
  },
  {
   "cell_type": "code",
   "execution_count": 98,
   "id": "comparable-david",
   "metadata": {},
   "outputs": [],
   "source": [
    "X = df.iloc[:, :-1].values  \n",
    "y = df.iloc[:, 11].values  "
   ]
  },
  {
   "cell_type": "code",
   "execution_count": 99,
   "id": "assigned-movie",
   "metadata": {},
   "outputs": [],
   "source": [
    "#  разделяю на обучающую и тестовую выборку\n",
    "\n",
    "from sklearn.model_selection import train_test_split  \n",
    "X_train, X_test, y_train, y_test = train_test_split(X, y, test_size=0.2, random_state=1234)  \n"
   ]
  },
  {
   "cell_type": "code",
   "execution_count": 100,
   "id": "limiting-antigua",
   "metadata": {},
   "outputs": [],
   "source": [
    "# Активируем поиск на решетке GridSearchCV\n",
    "from sklearn.model_selection import GridSearchCV\n",
    "\n"
   ]
  },
  {
   "cell_type": "code",
   "execution_count": 101,
   "id": "manual-cartoon",
   "metadata": {},
   "outputs": [],
   "source": [
    "# Инициализируем модель\n",
    "model_2 = DecisionTreeClassifier(random_state=42,\n",
    "                               criterion='gini',\n",
    "                               # максимальная глубина дерева\n",
    "                               max_depth=6,\n",
    "                               max_leaf_nodes=None,\n",
    "                               # минимальное число элементов в узле для разбиения (может быть долей)\n",
    "                               min_samples_split=10,\n",
    "                               # минимальное число элементов в листе (может быть долей)\n",
    "                               min_samples_leaf=6,\n",
    "                               min_impurity_decrease=0.001,\n",
    "                               class_weight=None,\n",
    "                               min_weight_fraction_leaf=0,\n",
    "                               splitter='best',\n",
    "                               max_features = None)"
   ]
  },
  {
   "cell_type": "code",
   "execution_count": 102,
   "id": "adjusted-wages",
   "metadata": {},
   "outputs": [
    {
     "data": {
      "text/plain": [
       "GridSearchCV(cv=5,\n",
       "             estimator=DecisionTreeClassifier(max_depth=6,\n",
       "                                              min_impurity_decrease=0.001,\n",
       "                                              min_samples_leaf=6,\n",
       "                                              min_samples_split=10,\n",
       "                                              min_weight_fraction_leaf=0,\n",
       "                                              random_state=42),\n",
       "             n_jobs=-1,\n",
       "             param_grid={'max_depth': [3, 4, 5, 6],\n",
       "                         'min_samples_leaf': [2, 4, 6, 8],\n",
       "                         'min_samples_split': [8, 10, 12, 14]},\n",
       "             scoring='accuracy')"
      ]
     },
     "execution_count": 102,
     "metadata": {},
     "output_type": "execute_result"
    }
   ],
   "source": [
    "#   Определяем тестируемые значения гиперпараметров\n",
    "params_set = {\n",
    "'max_depth': [3, 4, 5, 6],\n",
    "'min_samples_leaf': [2, 4, 6, 8],\n",
    "'min_samples_split': [8, 10, 12, 14]\n",
    "}\n",
    "\n",
    "\n",
    "#   Проводим 5-fold кросс-валидацию\n",
    "#   Качество моделей сравниваем с помощью accuracy, так как классы сбалансрованы\n",
    "grid_CV_1 = GridSearchCV(estimator=model_2,\n",
    "       param_grid=params_set,\n",
    "       scoring='accuracy',\n",
    "       cv=5,\n",
    "       n_jobs=-1)\n",
    "\n",
    "\n",
    "#   Обучение на обучающей выборке\n",
    "grid_CV_1.fit(X_train, y_train)"
   ]
  },
  {
   "cell_type": "code",
   "execution_count": 103,
   "id": "educated-cleveland",
   "metadata": {},
   "outputs": [
    {
     "name": "stdout",
     "output_type": "stream",
     "text": [
      "Лучшие значения гиперпараметров:\n",
      " {'max_depth': 5, 'min_samples_leaf': 4, 'min_samples_split': 8}\n"
     ]
    }
   ],
   "source": [
    "#   Лучший набор значений гиперпараметров\n",
    "\n",
    "best_hyperparams = grid_CV_1.best_params_\n",
    "print('Лучшие значения гиперпараметров:\\n', best_hyperparams)"
   ]
  },
  {
   "cell_type": "code",
   "execution_count": 104,
   "id": "compact-waterproof",
   "metadata": {},
   "outputs": [
    {
     "name": "stdout",
     "output_type": "stream",
     "text": [
      "Лучшее accuracy 0.571547181372549\n"
     ]
    }
   ],
   "source": [
    "# Значение критерия качества для лучших значений гиперпараметров \n",
    "best_CV_score = grid_CV_1.best_score_\n",
    "print('Лучшее accuracy', best_CV_score)"
   ]
  },
  {
   "cell_type": "code",
   "execution_count": 105,
   "id": "robust-poster",
   "metadata": {},
   "outputs": [
    {
     "name": "stdout",
     "output_type": "stream",
     "text": [
      "Лучшее accuracy на тестовом множестве 0.60625\n"
     ]
    }
   ],
   "source": [
    "# Лучшая модель\n",
    "best_model = grid_CV_1.best_estimator_\n",
    "\n",
    "# accuracy на тестовом множестве для лучшей модели\n",
    "test_acc = best_model.score(X_test,y_test)\n",
    "\n",
    "# начение критерия качества для лучших значений гиперпараметров \n",
    "print('Лучшее accuracy на тестовом множестве', test_acc)"
   ]
  },
  {
   "cell_type": "code",
   "execution_count": null,
   "id": "unlimited-glory",
   "metadata": {},
   "outputs": [],
   "source": []
  }
 ],
 "metadata": {
  "kernelspec": {
   "display_name": "Python 3",
   "language": "python",
   "name": "python3"
  },
  "language_info": {
   "codemirror_mode": {
    "name": "ipython",
    "version": 3
   },
   "file_extension": ".py",
   "mimetype": "text/x-python",
   "name": "python",
   "nbconvert_exporter": "python",
   "pygments_lexer": "ipython3",
   "version": "3.8.5"
  }
 },
 "nbformat": 4,
 "nbformat_minor": 5
}
