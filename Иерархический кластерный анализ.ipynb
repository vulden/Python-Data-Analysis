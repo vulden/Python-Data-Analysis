{
 "cells": [
  {
   "cell_type": "code",
   "execution_count": 141,
   "metadata": {},
   "outputs": [],
   "source": [
    "import numpy as np\n",
    "import pandas as pd\n",
    "\n",
    "import matplotlib\n",
    "import matplotlib.pyplot as plt\n",
    "matplotlib.style.use('ggplot')\n",
    "%matplotlib inline\n",
    "\n",
    "import os"
   ]
  },
  {
   "cell_type": "code",
   "execution_count": 142,
   "metadata": {},
   "outputs": [],
   "source": [
    "os.chdir(\"/home/vladimir/conda\")"
   ]
  },
  {
   "cell_type": "code",
   "execution_count": 143,
   "metadata": {},
   "outputs": [],
   "source": [
    "df = pd.read_csv(\"Econom_Cities_data.csv\", sep=\";\",index_col=\"City\",decimal=\",\")"
   ]
  },
  {
   "cell_type": "code",
   "execution_count": 144,
   "metadata": {},
   "outputs": [
    {
     "data": {
      "text/html": [
       "<div>\n",
       "<style scoped>\n",
       "    .dataframe tbody tr th:only-of-type {\n",
       "        vertical-align: middle;\n",
       "    }\n",
       "\n",
       "    .dataframe tbody tr th {\n",
       "        vertical-align: top;\n",
       "    }\n",
       "\n",
       "    .dataframe thead th {\n",
       "        text-align: right;\n",
       "    }\n",
       "</style>\n",
       "<table border=\"1\" class=\"dataframe\">\n",
       "  <thead>\n",
       "    <tr style=\"text-align: right;\">\n",
       "      <th></th>\n",
       "      <th>Work</th>\n",
       "      <th>Price</th>\n",
       "      <th>Salary</th>\n",
       "    </tr>\n",
       "    <tr>\n",
       "      <th>City</th>\n",
       "      <th></th>\n",
       "      <th></th>\n",
       "      <th></th>\n",
       "    </tr>\n",
       "  </thead>\n",
       "  <tbody>\n",
       "    <tr>\n",
       "      <th>Amsterdam</th>\n",
       "      <td>1714</td>\n",
       "      <td>65.6</td>\n",
       "      <td>49.0</td>\n",
       "    </tr>\n",
       "    <tr>\n",
       "      <th>Athens</th>\n",
       "      <td>1792</td>\n",
       "      <td>53.8</td>\n",
       "      <td>30.4</td>\n",
       "    </tr>\n",
       "    <tr>\n",
       "      <th>Bogota</th>\n",
       "      <td>2152</td>\n",
       "      <td>37.9</td>\n",
       "      <td>11.5</td>\n",
       "    </tr>\n",
       "    <tr>\n",
       "      <th>Bombay</th>\n",
       "      <td>2052</td>\n",
       "      <td>30.3</td>\n",
       "      <td>5.3</td>\n",
       "    </tr>\n",
       "    <tr>\n",
       "      <th>Brussels</th>\n",
       "      <td>1708</td>\n",
       "      <td>73.8</td>\n",
       "      <td>50.5</td>\n",
       "    </tr>\n",
       "    <tr>\n",
       "      <th>Buenos_Aires</th>\n",
       "      <td>1971</td>\n",
       "      <td>56.1</td>\n",
       "      <td>12.5</td>\n",
       "    </tr>\n",
       "    <tr>\n",
       "      <th>Cairo</th>\n",
       "      <td>-9999</td>\n",
       "      <td>37.1</td>\n",
       "      <td>-9999.0</td>\n",
       "    </tr>\n",
       "    <tr>\n",
       "      <th>Caracas</th>\n",
       "      <td>2041</td>\n",
       "      <td>61.0</td>\n",
       "      <td>10.9</td>\n",
       "    </tr>\n",
       "    <tr>\n",
       "      <th>Chicago</th>\n",
       "      <td>1924</td>\n",
       "      <td>73.9</td>\n",
       "      <td>61.9</td>\n",
       "    </tr>\n",
       "    <tr>\n",
       "      <th>Copenhagen</th>\n",
       "      <td>1717</td>\n",
       "      <td>91.3</td>\n",
       "      <td>62.9</td>\n",
       "    </tr>\n",
       "    <tr>\n",
       "      <th>Dublin</th>\n",
       "      <td>1759</td>\n",
       "      <td>76.0</td>\n",
       "      <td>41.4</td>\n",
       "    </tr>\n",
       "    <tr>\n",
       "      <th>Dusseldorf</th>\n",
       "      <td>1693</td>\n",
       "      <td>78.5</td>\n",
       "      <td>60.2</td>\n",
       "    </tr>\n",
       "    <tr>\n",
       "      <th>Frankfurt</th>\n",
       "      <td>1650</td>\n",
       "      <td>74.5</td>\n",
       "      <td>60.4</td>\n",
       "    </tr>\n",
       "    <tr>\n",
       "      <th>Geneva</th>\n",
       "      <td>1880</td>\n",
       "      <td>95.9</td>\n",
       "      <td>90.3</td>\n",
       "    </tr>\n",
       "    <tr>\n",
       "      <th>Helsinki</th>\n",
       "      <td>1667</td>\n",
       "      <td>113.6</td>\n",
       "      <td>66.6</td>\n",
       "    </tr>\n",
       "    <tr>\n",
       "      <th>Hong_Kong</th>\n",
       "      <td>2375</td>\n",
       "      <td>63.8</td>\n",
       "      <td>27.8</td>\n",
       "    </tr>\n",
       "    <tr>\n",
       "      <th>Houston</th>\n",
       "      <td>1978</td>\n",
       "      <td>71.9</td>\n",
       "      <td>46.3</td>\n",
       "    </tr>\n",
       "    <tr>\n",
       "      <th>Jakarta</th>\n",
       "      <td>-9999</td>\n",
       "      <td>43.6</td>\n",
       "      <td>-9999.0</td>\n",
       "    </tr>\n",
       "    <tr>\n",
       "      <th>Johannesburg</th>\n",
       "      <td>1945</td>\n",
       "      <td>51.1</td>\n",
       "      <td>24.0</td>\n",
       "    </tr>\n",
       "    <tr>\n",
       "      <th>Kuala_Lumpur</th>\n",
       "      <td>2167</td>\n",
       "      <td>43.5</td>\n",
       "      <td>9.9</td>\n",
       "    </tr>\n",
       "    <tr>\n",
       "      <th>Lagos</th>\n",
       "      <td>1786</td>\n",
       "      <td>45.2</td>\n",
       "      <td>2.7</td>\n",
       "    </tr>\n",
       "    <tr>\n",
       "      <th>Lisbon</th>\n",
       "      <td>1742</td>\n",
       "      <td>56.2</td>\n",
       "      <td>18.8</td>\n",
       "    </tr>\n",
       "    <tr>\n",
       "      <th>London</th>\n",
       "      <td>1737</td>\n",
       "      <td>84.2</td>\n",
       "      <td>46.2</td>\n",
       "    </tr>\n",
       "    <tr>\n",
       "      <th>Los_Angeles</th>\n",
       "      <td>2068</td>\n",
       "      <td>79.8</td>\n",
       "      <td>65.2</td>\n",
       "    </tr>\n",
       "    <tr>\n",
       "      <th>Luxembourg</th>\n",
       "      <td>1768</td>\n",
       "      <td>71.1</td>\n",
       "      <td>71.1</td>\n",
       "    </tr>\n",
       "    <tr>\n",
       "      <th>Madrid</th>\n",
       "      <td>1710</td>\n",
       "      <td>93.8</td>\n",
       "      <td>50.0</td>\n",
       "    </tr>\n",
       "    <tr>\n",
       "      <th>Manila</th>\n",
       "      <td>2268</td>\n",
       "      <td>40.0</td>\n",
       "      <td>4.0</td>\n",
       "    </tr>\n",
       "    <tr>\n",
       "      <th>Mexico_City</th>\n",
       "      <td>1944</td>\n",
       "      <td>49.8</td>\n",
       "      <td>5.7</td>\n",
       "    </tr>\n",
       "    <tr>\n",
       "      <th>Milan</th>\n",
       "      <td>1773</td>\n",
       "      <td>82.0</td>\n",
       "      <td>53.3</td>\n",
       "    </tr>\n",
       "    <tr>\n",
       "      <th>Montreal</th>\n",
       "      <td>1827</td>\n",
       "      <td>72.7</td>\n",
       "      <td>56.3</td>\n",
       "    </tr>\n",
       "    <tr>\n",
       "      <th>Nairobi</th>\n",
       "      <td>1958</td>\n",
       "      <td>45.0</td>\n",
       "      <td>5.8</td>\n",
       "    </tr>\n",
       "    <tr>\n",
       "      <th>New_York</th>\n",
       "      <td>1942</td>\n",
       "      <td>83.3</td>\n",
       "      <td>65.8</td>\n",
       "    </tr>\n",
       "    <tr>\n",
       "      <th>Nicosia</th>\n",
       "      <td>1825</td>\n",
       "      <td>47.9</td>\n",
       "      <td>28.3</td>\n",
       "    </tr>\n",
       "    <tr>\n",
       "      <th>Oslo</th>\n",
       "      <td>1583</td>\n",
       "      <td>115.5</td>\n",
       "      <td>63.7</td>\n",
       "    </tr>\n",
       "    <tr>\n",
       "      <th>Panama</th>\n",
       "      <td>2078</td>\n",
       "      <td>49.2</td>\n",
       "      <td>13.8</td>\n",
       "    </tr>\n",
       "    <tr>\n",
       "      <th>Paris</th>\n",
       "      <td>1744</td>\n",
       "      <td>81.6</td>\n",
       "      <td>45.9</td>\n",
       "    </tr>\n",
       "    <tr>\n",
       "      <th>Rio_de_Janeiro</th>\n",
       "      <td>1749</td>\n",
       "      <td>46.3</td>\n",
       "      <td>10.5</td>\n",
       "    </tr>\n",
       "    <tr>\n",
       "      <th>San_Paulo</th>\n",
       "      <td>1856</td>\n",
       "      <td>48.9</td>\n",
       "      <td>11.1</td>\n",
       "    </tr>\n",
       "    <tr>\n",
       "      <th>Seoul</th>\n",
       "      <td>1842</td>\n",
       "      <td>58.3</td>\n",
       "      <td>32.7</td>\n",
       "    </tr>\n",
       "    <tr>\n",
       "      <th>Singpore</th>\n",
       "      <td>2042</td>\n",
       "      <td>64.4</td>\n",
       "      <td>16.1</td>\n",
       "    </tr>\n",
       "    <tr>\n",
       "      <th>Stockholm</th>\n",
       "      <td>1805</td>\n",
       "      <td>111.3</td>\n",
       "      <td>39.2</td>\n",
       "    </tr>\n",
       "    <tr>\n",
       "      <th>Sydney</th>\n",
       "      <td>1668</td>\n",
       "      <td>70.8</td>\n",
       "      <td>52.1</td>\n",
       "    </tr>\n",
       "    <tr>\n",
       "      <th>Taipei</th>\n",
       "      <td>2145</td>\n",
       "      <td>84.3</td>\n",
       "      <td>34.5</td>\n",
       "    </tr>\n",
       "    <tr>\n",
       "      <th>Tel_Aviv</th>\n",
       "      <td>2015</td>\n",
       "      <td>67.3</td>\n",
       "      <td>27.0</td>\n",
       "    </tr>\n",
       "    <tr>\n",
       "      <th>Tokyo</th>\n",
       "      <td>1880</td>\n",
       "      <td>115.0</td>\n",
       "      <td>68.0</td>\n",
       "    </tr>\n",
       "    <tr>\n",
       "      <th>Toronto</th>\n",
       "      <td>1888</td>\n",
       "      <td>70.2</td>\n",
       "      <td>58.2</td>\n",
       "    </tr>\n",
       "    <tr>\n",
       "      <th>Vienna</th>\n",
       "      <td>1780</td>\n",
       "      <td>78.0</td>\n",
       "      <td>51.3</td>\n",
       "    </tr>\n",
       "    <tr>\n",
       "      <th>Zurich</th>\n",
       "      <td>1868</td>\n",
       "      <td>100.0</td>\n",
       "      <td>100.0</td>\n",
       "    </tr>\n",
       "  </tbody>\n",
       "</table>\n",
       "</div>"
      ],
      "text/plain": [
       "                Work  Price  Salary\n",
       "City                               \n",
       "Amsterdam       1714   65.6    49.0\n",
       "Athens          1792   53.8    30.4\n",
       "Bogota          2152   37.9    11.5\n",
       "Bombay          2052   30.3     5.3\n",
       "Brussels        1708   73.8    50.5\n",
       "Buenos_Aires    1971   56.1    12.5\n",
       "Cairo          -9999   37.1 -9999.0\n",
       "Caracas         2041   61.0    10.9\n",
       "Chicago         1924   73.9    61.9\n",
       "Copenhagen      1717   91.3    62.9\n",
       "Dublin          1759   76.0    41.4\n",
       "Dusseldorf      1693   78.5    60.2\n",
       "Frankfurt       1650   74.5    60.4\n",
       "Geneva          1880   95.9    90.3\n",
       "Helsinki        1667  113.6    66.6\n",
       "Hong_Kong       2375   63.8    27.8\n",
       "Houston         1978   71.9    46.3\n",
       "Jakarta        -9999   43.6 -9999.0\n",
       "Johannesburg    1945   51.1    24.0\n",
       "Kuala_Lumpur    2167   43.5     9.9\n",
       "Lagos           1786   45.2     2.7\n",
       "Lisbon          1742   56.2    18.8\n",
       "London          1737   84.2    46.2\n",
       "Los_Angeles     2068   79.8    65.2\n",
       "Luxembourg      1768   71.1    71.1\n",
       "Madrid          1710   93.8    50.0\n",
       "Manila          2268   40.0     4.0\n",
       "Mexico_City     1944   49.8     5.7\n",
       "Milan           1773   82.0    53.3\n",
       "Montreal        1827   72.7    56.3\n",
       "Nairobi         1958   45.0     5.8\n",
       "New_York        1942   83.3    65.8\n",
       "Nicosia         1825   47.9    28.3\n",
       "Oslo            1583  115.5    63.7\n",
       "Panama          2078   49.2    13.8\n",
       "Paris           1744   81.6    45.9\n",
       "Rio_de_Janeiro  1749   46.3    10.5\n",
       "San_Paulo       1856   48.9    11.1\n",
       "Seoul           1842   58.3    32.7\n",
       "Singpore        2042   64.4    16.1\n",
       "Stockholm       1805  111.3    39.2\n",
       "Sydney          1668   70.8    52.1\n",
       "Taipei          2145   84.3    34.5\n",
       "Tel_Aviv        2015   67.3    27.0\n",
       "Tokyo           1880  115.0    68.0\n",
       "Toronto         1888   70.2    58.2\n",
       "Vienna          1780   78.0    51.3\n",
       "Zurich          1868  100.0   100.0"
      ]
     },
     "execution_count": 144,
     "metadata": {},
     "output_type": "execute_result"
    }
   ],
   "source": [
    "from scipy.cluster.hierarchy import dendrogram, linkage, fcluster\n",
    "df[:]"
   ]
  },
  {
   "cell_type": "markdown",
   "metadata": {},
   "source": [
    "Как видим, у Каира и Джакарты значения двух полей равны $-9999$. Это выбросы, очевидно, удалим их."
   ]
  },
  {
   "cell_type": "code",
   "execution_count": 145,
   "metadata": {},
   "outputs": [],
   "source": [
    "df=df.drop(index=[\"Cairo\",\"Jakarta\"])"
   ]
  },
  {
   "cell_type": "markdown",
   "metadata": {},
   "source": [
    "Также заметим, что если мы хотим использовать евклидову метрику, то переменная Work будет иметь определяющий вклад. Возьмём значение в Цюрихе за $100$ % и будем использовать проценты, как и в других столбцах."
   ]
  },
  {
   "cell_type": "code",
   "execution_count": null,
   "metadata": {},
   "outputs": [],
   "source": [
    "df[\"Work\"]=df[\"Work\"]/1868*100"
   ]
  },
  {
   "cell_type": "code",
   "execution_count": 147,
   "metadata": {},
   "outputs": [],
   "source": [
    "link = linkage(df, 'ward', 'euclidean')"
   ]
  },
  {
   "cell_type": "code",
   "execution_count": 148,
   "metadata": {},
   "outputs": [
    {
     "name": "stdout",
     "output_type": "stream",
     "text": [
      "<class 'numpy.ndarray'>\n",
      "(45, 4)\n"
     ]
    }
   ],
   "source": [
    "print(type(link))\n",
    "print(link.shape)"
   ]
  },
  {
   "cell_type": "code",
   "execution_count": 168,
   "metadata": {},
   "outputs": [
    {
     "data": {
      "image/png": "[encoded data removed]",
      "text/plain": [
       "<Figure size 864x864 with 1 Axes>"
      ]
     },
     "metadata": {
      "needs_background": "light"
     },
     "output_type": "display_data"
    }
   ],
   "source": [
    "fig = plt.figure(figsize=(12,12))\n",
    "dn = dendrogram(link, color_threshold = 73,                 \n",
    "                # массив с названиями объектов для подписи по оси X\n",
    "                labels=df.index.tolist())"
   ]
  },
  {
   "cell_type": "markdown",
   "metadata": {},
   "source": [
    "Кластеры выглядят достаточно симпатично, несмотря на то, что крайний справа слегка выделяется."
   ]
  },
  {
   "cell_type": "code",
   "execution_count": 175,
   "metadata": {},
   "outputs": [
    {
     "data": {
      "text/plain": [
       "<matplotlib.lines.Line2D at 0x7f01a4d37e90>"
      ]
     },
     "execution_count": 175,
     "metadata": {},
     "output_type": "execute_result"
    },
    {
     "data": {
      "image/png": "[encoded data removed]",
      "text/plain": [
       "<Figure size 432x288 with 1 Axes>"
      ]
     },
     "metadata": {
      "needs_background": "light"
     },
     "output_type": "display_data"
    }
   ],
   "source": [
    "dist = link[:, 2]\n",
    "dist_rev = dist[::-1]\n",
    "idxs = range(1, len(dist) + 1)\n",
    "plt.plot(idxs, dist_rev, marker='o')\n",
    "plt.title('Distance between merged clusters')\n",
    "plt.xlabel('Step')\n",
    "plt.ylabel('Distance')\n",
    "plt.text(25, 73, '4 clusters')\n",
    "plt.axhline(70, c='k', linestyle='dashed')"
   ]
  },
  {
   "cell_type": "markdown",
   "metadata": {},
   "source": [
    "Как видно из каменистой осыпи, мы вовремя остановились."
   ]
  },
  {
   "cell_type": "code",
   "execution_count": 162,
   "metadata": {},
   "outputs": [],
   "source": [
    "# Останавливаем объединение, когда 4 кластера\n",
    "df['cluster'] = fcluster(link, 4, criterion='maxclust')"
   ]
  },
  {
   "cell_type": "code",
   "execution_count": 165,
   "metadata": {},
   "outputs": [
    {
     "data": {
      "text/plain": [
       "cluster\n",
       "1    10\n",
       "2    11\n",
       "3    17\n",
       "4     8\n",
       "dtype: int64"
      ]
     },
     "execution_count": 165,
     "metadata": {},
     "output_type": "execute_result"
    }
   ],
   "source": [
    "df.groupby('cluster').size()"
   ]
  },
  {
   "cell_type": "markdown",
   "metadata": {},
   "source": [
    "Размер кластеров варьируется, попытаемся их проинтерпретировать."
   ]
  },
  {
   "cell_type": "code",
   "execution_count": 178,
   "metadata": {},
   "outputs": [
    {
     "data": {
      "text/plain": [
       "array(['Amsterdam', 'Brussels', 'Chicago', 'Dublin', 'Dusseldorf',\n",
       "       'Frankfurt', 'Houston', 'London', 'Los_Angeles', 'Luxembourg',\n",
       "       'Milan', 'Montreal', 'New_York', 'Paris', 'Sydney', 'Toronto',\n",
       "       'Vienna'], dtype=object)"
      ]
     },
     "execution_count": 178,
     "metadata": {},
     "output_type": "execute_result"
    }
   ],
   "source": [
    "df[df['cluster']==3].index.values"
   ]
  },
  {
   "cell_type": "markdown",
   "metadata": {},
   "source": [
    "Получилось, что нумерация кластеров совпадает с изображённой на дендрограмме (кластеры пронумерованны слева направо)."
   ]
  },
  {
   "cell_type": "code",
   "execution_count": 166,
   "metadata": {},
   "outputs": [
    {
     "data": {
      "text/html": [
       "<div>\n",
       "<style scoped>\n",
       "    .dataframe tbody tr th:only-of-type {\n",
       "        vertical-align: middle;\n",
       "    }\n",
       "\n",
       "    .dataframe tbody tr th {\n",
       "        vertical-align: top;\n",
       "    }\n",
       "\n",
       "    .dataframe thead th {\n",
       "        text-align: right;\n",
       "    }\n",
       "</style>\n",
       "<table border=\"1\" class=\"dataframe\">\n",
       "  <thead>\n",
       "    <tr style=\"text-align: right;\">\n",
       "      <th></th>\n",
       "      <th>Work</th>\n",
       "      <th>Price</th>\n",
       "      <th>Salary</th>\n",
       "    </tr>\n",
       "    <tr>\n",
       "      <th>cluster</th>\n",
       "      <th></th>\n",
       "      <th></th>\n",
       "      <th></th>\n",
       "    </tr>\n",
       "  </thead>\n",
       "  <tbody>\n",
       "    <tr>\n",
       "      <th>1</th>\n",
       "      <td>107.119914</td>\n",
       "      <td>43.610000</td>\n",
       "      <td>8.030000</td>\n",
       "    </tr>\n",
       "    <tr>\n",
       "      <th>2</th>\n",
       "      <td>105.776718</td>\n",
       "      <td>60.381818</td>\n",
       "      <td>23.909091</td>\n",
       "    </tr>\n",
       "    <tr>\n",
       "      <th>3</th>\n",
       "      <td>96.425872</td>\n",
       "      <td>75.758824</td>\n",
       "      <td>55.005882</td>\n",
       "    </tr>\n",
       "    <tr>\n",
       "      <th>4</th>\n",
       "      <td>94.419165</td>\n",
       "      <td>104.550000</td>\n",
       "      <td>67.587500</td>\n",
       "    </tr>\n",
       "  </tbody>\n",
       "</table>\n",
       "</div>"
      ],
      "text/plain": [
       "               Work       Price     Salary\n",
       "cluster                                   \n",
       "1        107.119914   43.610000   8.030000\n",
       "2        105.776718   60.381818  23.909091\n",
       "3         96.425872   75.758824  55.005882\n",
       "4         94.419165  104.550000  67.587500"
      ]
     },
     "execution_count": 166,
     "metadata": {},
     "output_type": "execute_result"
    }
   ],
   "source": [
    "df.groupby('cluster').mean()"
   ]
  },
  {
   "cell_type": "markdown",
   "metadata": {},
   "source": [
    "1. Первый кластер - крупные города третьего мира(Африки, Юго-Восточной Азии, Южной Америки). Сильно выбивается уровень заработной платы в час, который в 12 раз ниже, чем в Цюрихе. При этом цены в половину меньше(в среднем). Люди в этих городах больше всех работают и меньше всех зарабатывают.\n",
    "2. Второй кластер - столицы и другие города развивающихся стран (исследование выполнено в 1991 году, сейчас бы в этом кластере вряд ли оказались Сеул, Тель-Авив, Гонконг, Тайпей). Картина напоминает первый кластер, но средняя зарплата в час в три раза больше, а цены - в полтора. Оба первых кластера в среднем 'перерабатывают', по сравнению с Цюрихом.\n",
    "3. Третий кластер - развитые европейские и американские города (+Сидней). В этом кластере средняя зарплата в час еще в 2.3 раза больше, чем в предыдущем. Заметно снижение среднего числа рабочих часов ниже уровня Цюриха.\n",
    "4. Четвёртый кластер - самые современные на 1991 европейские города + Токио. В этих городах люди работают меньше всего, получая наибольшую зарплату в час (= самые продуктивные). Соответсвуют зарплатам цены - в среднем выше даже уровня Цюриха(вероятно, слишком дорогая недвижимость)."
   ]
  },
  {
   "cell_type": "code",
   "execution_count": null,
   "metadata": {},
   "outputs": [],
   "source": []
  }
 ],
 "metadata": {
  "kernelspec": {
   "display_name": "Python 3",
   "language": "python",
   "name": "python3"
  },
  "language_info": {
   "codemirror_mode": {
    "name": "ipython",
    "version": 3
   },
   "file_extension": ".py",
   "mimetype": "text/x-python",
   "name": "python",
   "nbconvert_exporter": "python",
   "pygments_lexer": "ipython3",
   "version": "3.7.6"
  }
 },
 "nbformat": 4,
 "nbformat_minor": 4
}
