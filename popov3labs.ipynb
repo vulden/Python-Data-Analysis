{
 "cells": [
  {
   "cell_type": "code",
   "execution_count": 66,
   "metadata": {},
   "outputs": [],
   "source": [
    "import pandas as pd\n",
    "import numpy as np\n",
    "\n",
    "import matplotlib\n",
    "import matplotlib.pyplot as plt\n",
    "import random"
   ]
  },
  {
   "cell_type": "markdown",
   "metadata": {},
   "source": [
    "**Лабораторная работа 1**"
   ]
  },
  {
   "cell_type": "code",
   "execution_count": 113,
   "metadata": {},
   "outputs": [
    {
     "name": "stdout",
     "output_type": "stream",
     "text": [
      "452631\n",
      "0.5363502258902555\n",
      "accurate= 0.536708769840247\n"
     ]
    }
   ],
   "source": [
    "#В лотерее 100 билетов, из которых 5 выигрышные. Как велика вероятность выигрыша для того, кто имеет 15 билетов?\n",
    "random.seed(a=1345, version=2)\n",
    "\n",
    "# Число экспериментов\n",
    "n_exp = 100000\n",
    "\n",
    "p_0 = 1          #   Вероятность, полученная на предыдущей попытке\n",
    "delta_ = 1.1     #   \n",
    "\n",
    "while delta_ >= 0.00001:\n",
    "    count_ = 0\n",
    "\n",
    "    for i in range(n_exp):             # Проводим n_exp экспериментов\n",
    "        t = np.random.uniform(0.0, 1.0, 15)\n",
    "        \n",
    "        if any(t<0.05):\n",
    "            count_ += 1\n",
    "\n",
    "    p= count_/n_exp              # Оцениваем вероятность\n",
    "    delta_ = abs(p - p_0)        # Считаем изменение вероятности\n",
    "    p_0 = p                      # Новая оценка вероятности заменяет старую\n",
    "    n_exp = round(n_exp * 1.1)   # Увеличиваем число экспериментов\n",
    "\n",
    "print(n_exp)\n",
    "print(p)\n",
    "print('accurate=',1-0.95**15)"
   ]
  },
  {
   "cell_type": "markdown",
   "metadata": {},
   "source": [
    "Точность = 0.0001, при n = 452631. Как видим, отличие от истинного решения в четвёртом знаке после запятой."
   ]
  },
  {
   "cell_type": "markdown",
   "metadata": {},
   "source": [
    "**Лабораторная работа 2**"
   ]
  },
  {
   "cell_type": "markdown",
   "metadata": {},
   "source": [
    "Колода игральных карт содержит 52 карты, разделяющиеся на 4 различные масти по 13 карт в каждой. Предположим, что колода тщательно перетасована, так что вытаскивание любой карты одинаково вероятно. Вытащим 6 из них. Найти вероятность того, что среди этих карт королей будет больше чем десяток."
   ]
  },
  {
   "cell_type": "code",
   "execution_count": 132,
   "metadata": {},
   "outputs": [
    {
     "name": "stdout",
     "output_type": "stream",
     "text": [
      "497894\n",
      "0.2727320930294213\n"
     ]
    }
   ],
   "source": [
    "#  Задаем зерно датчика a, \n",
    "#  опция version=2 требует преобразовать а в целое число, если требуется\n",
    "random.seed(a=12345, version=2)\n",
    "\n",
    "# Число экспериментов\n",
    "n_exp = 10000\n",
    "\n",
    "#колода, важно только количество королей и десяток\n",
    "deck = [\"everything_else\"] * 44 + [\"q\"] * 4 + [\"10\"] * 4   \n",
    "\n",
    "p_0 = 1          #   Вероятность, полученная на предыдущей попытке\n",
    "delta_ = 1.1     #\n",
    "\n",
    "while delta_ >= 0.0001:\n",
    "\n",
    "#  Обнуляем счетчик\n",
    "    count_ = 0\n",
    "\n",
    "    for i in range(n_exp):             # Проводим n_exp экспериментов\n",
    "        a = random.sample(deck, 6)     # Выбираем 6 карт без возвращения\n",
    "\n",
    "        if a.count(\"q\")>a.count(\"10\"):\n",
    "            count_ += 1\n",
    "\n",
    "    p= count_/n_exp              # Оцениваем вероятность\n",
    "    delta_ = abs(p - p_0)        # Считаем изменение вероятности\n",
    "    p_0 = p                      # Новая оценка вероятности заменяет старую\n",
    "    n_exp = round(n_exp * 1.1)   # Увеличиваем число экспериментов\n",
    "\n",
    "print(n_exp)\n",
    "print(p)"
   ]
  },
  {
   "cell_type": "markdown",
   "metadata": {},
   "source": [
    "Погрешность равна 0.0001."
   ]
  },
  {
   "cell_type": "markdown",
   "metadata": {},
   "source": [
    "**Лабораторная работа 3**"
   ]
  },
  {
   "cell_type": "markdown",
   "metadata": {},
   "source": [
    "В квадрат с вершинами (0, 0), (0, 1), (1,0), (1,1) наудачу брошена точка М. Пусть (x, y) будут ее координаты. Предполагается, что вероятность попадания в область, лежащую целиком внутри квадрата, зависит лишь от площади этой области и пропорциональна ей.\n",
    "Найти P{min(x,y)<1/4}"
   ]
  },
  {
   "cell_type": "code",
   "execution_count": 129,
   "metadata": {},
   "outputs": [
    {
     "name": "stdout",
     "output_type": "stream",
     "text": [
      "Приближенный ответ после  1000000 экспериментов  0.437051\n",
      "Точный ответ  0.4375\n"
     ]
    }
   ],
   "source": [
    "# Число экспериментов\n",
    "n_exp = 1000000\n",
    "\n",
    "m=0  #  Число точек, попавших в искомую область\n",
    "\n",
    "#  Задаем зерно датчика a \n",
    "#  version=2 требует преобразовать а в целое число, если требуется\n",
    "random.seed(a=12345, version=2)\n",
    "\n",
    "for i in range(n_exp):             # Проводим n_exp экспериментов\n",
    "    a = np.random.uniform(0.0, 1.0, 2)     # Бросаем точку в квадрат [0,1]*[0,1]\n",
    "    if (any(a<1/4)):\n",
    "        m+=1\n",
    "    prob_tmp.append(m/(i+1))\n",
    "\n",
    "print(\"Приближенный ответ после \", n_exp, \"экспериментов \", m/n_exp)\n",
    "\n",
    "print(\"Точный ответ \", 7/16)\n"
   ]
  },
  {
   "cell_type": "code",
   "execution_count": 130,
   "metadata": {},
   "outputs": [
    {
     "data": {
      "text/plain": [
       "[<matplotlib.lines.Line2D at 0x7fb215fd75d0>]"
      ]
     },
     "execution_count": 130,
     "metadata": {},
     "output_type": "execute_result"
    },
    {
     "data": {
      "image/png": "[encoded data removed]",
      "text/plain": [
       "<Figure size 432x288 with 1 Axes>"
      ]
     },
     "metadata": {
      "needs_background": "light"
     },
     "output_type": "display_data"
    }
   ],
   "source": [
    "plt.plot(prob_tmp[500000 : 1000000])"
   ]
  },
  {
   "cell_type": "markdown",
   "metadata": {},
   "source": [
    "Как видим на графике, последние 500000 итераций решение ответ колеблется в пределах 0.437-0.4378, погрешность равна 0.001."
   ]
  },
  {
   "cell_type": "code",
   "execution_count": null,
   "metadata": {},
   "outputs": [],
   "source": []
  }
 ],
 "metadata": {
  "kernelspec": {
   "display_name": "Python 3",
   "language": "python",
   "name": "python3"
  },
  "language_info": {
   "codemirror_mode": {
    "name": "ipython",
    "version": 3
   },
   "file_extension": ".py",
   "mimetype": "text/x-python",
   "name": "python",
   "nbconvert_exporter": "python",
   "pygments_lexer": "ipython3",
   "version": "3.7.6"
  }
 },
 "nbformat": 4,
 "nbformat_minor": 4
}
