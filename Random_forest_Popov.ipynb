{
 "cells": [
  {
   "cell_type": "code",
   "execution_count": 19,
   "id": "reported-niger",
   "metadata": {},
   "outputs": [],
   "source": [
    "#  Подключаю необходимые библиотеки\n",
    "import numpy as np\n",
    "import pandas as pd\n",
    "import matplotlib\n",
    "import matplotlib.pyplot as plt\n",
    "matplotlib.style.use('ggplot')\n",
    "%matplotlib inline"
   ]
  },
  {
   "cell_type": "code",
   "execution_count": 111,
   "id": "unavailable-cooper",
   "metadata": {},
   "outputs": [],
   "source": [
    "import os\n",
    "os.chdir(\"/home/vladimir/jupyter/pyDA/Lab_01\")\n"
   ]
  },
  {
   "cell_type": "code",
   "execution_count": 112,
   "id": "suspected-heath",
   "metadata": {},
   "outputs": [],
   "source": [
    "df = pd.read_csv('winequality-red.csv', sep=';')"
   ]
  },
  {
   "cell_type": "code",
   "execution_count": 113,
   "id": "handled-presentation",
   "metadata": {},
   "outputs": [
    {
     "data": {
      "text/html": [
       "<div>\n",
       "<style scoped>\n",
       "    .dataframe tbody tr th:only-of-type {\n",
       "        vertical-align: middle;\n",
       "    }\n",
       "\n",
       "    .dataframe tbody tr th {\n",
       "        vertical-align: top;\n",
       "    }\n",
       "\n",
       "    .dataframe thead th {\n",
       "        text-align: right;\n",
       "    }\n",
       "</style>\n",
       "<table border=\"1\" class=\"dataframe\">\n",
       "  <thead>\n",
       "    <tr style=\"text-align: right;\">\n",
       "      <th></th>\n",
       "      <th>fixed acidity</th>\n",
       "      <th>volatile acidity</th>\n",
       "      <th>citric acid</th>\n",
       "      <th>residual sugar</th>\n",
       "      <th>chlorides</th>\n",
       "      <th>free sulfur dioxide</th>\n",
       "      <th>total sulfur dioxide</th>\n",
       "      <th>density</th>\n",
       "      <th>pH</th>\n",
       "      <th>sulphates</th>\n",
       "      <th>alcohol</th>\n",
       "      <th>quality</th>\n",
       "    </tr>\n",
       "  </thead>\n",
       "  <tbody>\n",
       "    <tr>\n",
       "      <th>0</th>\n",
       "      <td>7.4</td>\n",
       "      <td>0.70</td>\n",
       "      <td>0.00</td>\n",
       "      <td>1.9</td>\n",
       "      <td>0.076</td>\n",
       "      <td>11.0</td>\n",
       "      <td>34.0</td>\n",
       "      <td>0.9978</td>\n",
       "      <td>3.51</td>\n",
       "      <td>0.56</td>\n",
       "      <td>9.4</td>\n",
       "      <td>5</td>\n",
       "    </tr>\n",
       "    <tr>\n",
       "      <th>1</th>\n",
       "      <td>7.8</td>\n",
       "      <td>0.88</td>\n",
       "      <td>0.00</td>\n",
       "      <td>2.6</td>\n",
       "      <td>0.098</td>\n",
       "      <td>25.0</td>\n",
       "      <td>67.0</td>\n",
       "      <td>0.9968</td>\n",
       "      <td>3.20</td>\n",
       "      <td>0.68</td>\n",
       "      <td>9.8</td>\n",
       "      <td>5</td>\n",
       "    </tr>\n",
       "    <tr>\n",
       "      <th>2</th>\n",
       "      <td>7.8</td>\n",
       "      <td>0.76</td>\n",
       "      <td>0.04</td>\n",
       "      <td>2.3</td>\n",
       "      <td>0.092</td>\n",
       "      <td>15.0</td>\n",
       "      <td>54.0</td>\n",
       "      <td>0.9970</td>\n",
       "      <td>3.26</td>\n",
       "      <td>0.65</td>\n",
       "      <td>9.8</td>\n",
       "      <td>5</td>\n",
       "    </tr>\n",
       "    <tr>\n",
       "      <th>3</th>\n",
       "      <td>11.2</td>\n",
       "      <td>0.28</td>\n",
       "      <td>0.56</td>\n",
       "      <td>1.9</td>\n",
       "      <td>0.075</td>\n",
       "      <td>17.0</td>\n",
       "      <td>60.0</td>\n",
       "      <td>0.9980</td>\n",
       "      <td>3.16</td>\n",
       "      <td>0.58</td>\n",
       "      <td>9.8</td>\n",
       "      <td>6</td>\n",
       "    </tr>\n",
       "    <tr>\n",
       "      <th>4</th>\n",
       "      <td>7.4</td>\n",
       "      <td>0.70</td>\n",
       "      <td>0.00</td>\n",
       "      <td>1.9</td>\n",
       "      <td>0.076</td>\n",
       "      <td>11.0</td>\n",
       "      <td>34.0</td>\n",
       "      <td>0.9978</td>\n",
       "      <td>3.51</td>\n",
       "      <td>0.56</td>\n",
       "      <td>9.4</td>\n",
       "      <td>5</td>\n",
       "    </tr>\n",
       "  </tbody>\n",
       "</table>\n",
       "</div>"
      ],
      "text/plain": [
       "   fixed acidity  volatile acidity  citric acid  residual sugar  chlorides  \\\n",
       "0            7.4              0.70         0.00             1.9      0.076   \n",
       "1            7.8              0.88         0.00             2.6      0.098   \n",
       "2            7.8              0.76         0.04             2.3      0.092   \n",
       "3           11.2              0.28         0.56             1.9      0.075   \n",
       "4            7.4              0.70         0.00             1.9      0.076   \n",
       "\n",
       "   free sulfur dioxide  total sulfur dioxide  density    pH  sulphates  \\\n",
       "0                 11.0                  34.0   0.9978  3.51       0.56   \n",
       "1                 25.0                  67.0   0.9968  3.20       0.68   \n",
       "2                 15.0                  54.0   0.9970  3.26       0.65   \n",
       "3                 17.0                  60.0   0.9980  3.16       0.58   \n",
       "4                 11.0                  34.0   0.9978  3.51       0.56   \n",
       "\n",
       "   alcohol  quality  \n",
       "0      9.4        5  \n",
       "1      9.8        5  \n",
       "2      9.8        5  \n",
       "3      9.8        6  \n",
       "4      9.4        5  "
      ]
     },
     "execution_count": 113,
     "metadata": {},
     "output_type": "execute_result"
    }
   ],
   "source": [
    "df.head()"
   ]
  },
  {
   "cell_type": "code",
   "execution_count": 114,
   "id": "laden-atmosphere",
   "metadata": {},
   "outputs": [
    {
     "data": {
      "text/html": [
       "<div>\n",
       "<style scoped>\n",
       "    .dataframe tbody tr th:only-of-type {\n",
       "        vertical-align: middle;\n",
       "    }\n",
       "\n",
       "    .dataframe tbody tr th {\n",
       "        vertical-align: top;\n",
       "    }\n",
       "\n",
       "    .dataframe thead th {\n",
       "        text-align: right;\n",
       "    }\n",
       "</style>\n",
       "<table border=\"1\" class=\"dataframe\">\n",
       "  <thead>\n",
       "    <tr style=\"text-align: right;\">\n",
       "      <th></th>\n",
       "      <th>fixed acidity</th>\n",
       "      <th>volatile acidity</th>\n",
       "      <th>citric acid</th>\n",
       "      <th>residual sugar</th>\n",
       "      <th>chlorides</th>\n",
       "      <th>free sulfur dioxide</th>\n",
       "      <th>total sulfur dioxide</th>\n",
       "      <th>density</th>\n",
       "      <th>pH</th>\n",
       "      <th>sulphates</th>\n",
       "      <th>alcohol</th>\n",
       "      <th>quality</th>\n",
       "    </tr>\n",
       "  </thead>\n",
       "  <tbody>\n",
       "    <tr>\n",
       "      <th>count</th>\n",
       "      <td>1599.000000</td>\n",
       "      <td>1599.000000</td>\n",
       "      <td>1599.000000</td>\n",
       "      <td>1599.000000</td>\n",
       "      <td>1599.000000</td>\n",
       "      <td>1599.000000</td>\n",
       "      <td>1599.000000</td>\n",
       "      <td>1599.000000</td>\n",
       "      <td>1599.000000</td>\n",
       "      <td>1599.000000</td>\n",
       "      <td>1599.000000</td>\n",
       "      <td>1599.000000</td>\n",
       "    </tr>\n",
       "    <tr>\n",
       "      <th>mean</th>\n",
       "      <td>8.319637</td>\n",
       "      <td>0.527821</td>\n",
       "      <td>0.270976</td>\n",
       "      <td>2.538806</td>\n",
       "      <td>0.087467</td>\n",
       "      <td>15.874922</td>\n",
       "      <td>46.467792</td>\n",
       "      <td>0.996747</td>\n",
       "      <td>3.311113</td>\n",
       "      <td>0.658149</td>\n",
       "      <td>10.422983</td>\n",
       "      <td>5.636023</td>\n",
       "    </tr>\n",
       "    <tr>\n",
       "      <th>std</th>\n",
       "      <td>1.741096</td>\n",
       "      <td>0.179060</td>\n",
       "      <td>0.194801</td>\n",
       "      <td>1.409928</td>\n",
       "      <td>0.047065</td>\n",
       "      <td>10.460157</td>\n",
       "      <td>32.895324</td>\n",
       "      <td>0.001887</td>\n",
       "      <td>0.154386</td>\n",
       "      <td>0.169507</td>\n",
       "      <td>1.065668</td>\n",
       "      <td>0.807569</td>\n",
       "    </tr>\n",
       "    <tr>\n",
       "      <th>min</th>\n",
       "      <td>4.600000</td>\n",
       "      <td>0.120000</td>\n",
       "      <td>0.000000</td>\n",
       "      <td>0.900000</td>\n",
       "      <td>0.012000</td>\n",
       "      <td>1.000000</td>\n",
       "      <td>6.000000</td>\n",
       "      <td>0.990070</td>\n",
       "      <td>2.740000</td>\n",
       "      <td>0.330000</td>\n",
       "      <td>8.400000</td>\n",
       "      <td>3.000000</td>\n",
       "    </tr>\n",
       "    <tr>\n",
       "      <th>25%</th>\n",
       "      <td>7.100000</td>\n",
       "      <td>0.390000</td>\n",
       "      <td>0.090000</td>\n",
       "      <td>1.900000</td>\n",
       "      <td>0.070000</td>\n",
       "      <td>7.000000</td>\n",
       "      <td>22.000000</td>\n",
       "      <td>0.995600</td>\n",
       "      <td>3.210000</td>\n",
       "      <td>0.550000</td>\n",
       "      <td>9.500000</td>\n",
       "      <td>5.000000</td>\n",
       "    </tr>\n",
       "    <tr>\n",
       "      <th>50%</th>\n",
       "      <td>7.900000</td>\n",
       "      <td>0.520000</td>\n",
       "      <td>0.260000</td>\n",
       "      <td>2.200000</td>\n",
       "      <td>0.079000</td>\n",
       "      <td>14.000000</td>\n",
       "      <td>38.000000</td>\n",
       "      <td>0.996750</td>\n",
       "      <td>3.310000</td>\n",
       "      <td>0.620000</td>\n",
       "      <td>10.200000</td>\n",
       "      <td>6.000000</td>\n",
       "    </tr>\n",
       "    <tr>\n",
       "      <th>75%</th>\n",
       "      <td>9.200000</td>\n",
       "      <td>0.640000</td>\n",
       "      <td>0.420000</td>\n",
       "      <td>2.600000</td>\n",
       "      <td>0.090000</td>\n",
       "      <td>21.000000</td>\n",
       "      <td>62.000000</td>\n",
       "      <td>0.997835</td>\n",
       "      <td>3.400000</td>\n",
       "      <td>0.730000</td>\n",
       "      <td>11.100000</td>\n",
       "      <td>6.000000</td>\n",
       "    </tr>\n",
       "    <tr>\n",
       "      <th>max</th>\n",
       "      <td>15.900000</td>\n",
       "      <td>1.580000</td>\n",
       "      <td>1.000000</td>\n",
       "      <td>15.500000</td>\n",
       "      <td>0.611000</td>\n",
       "      <td>72.000000</td>\n",
       "      <td>289.000000</td>\n",
       "      <td>1.003690</td>\n",
       "      <td>4.010000</td>\n",
       "      <td>2.000000</td>\n",
       "      <td>14.900000</td>\n",
       "      <td>8.000000</td>\n",
       "    </tr>\n",
       "  </tbody>\n",
       "</table>\n",
       "</div>"
      ],
      "text/plain": [
       "       fixed acidity  volatile acidity  citric acid  residual sugar  \\\n",
       "count    1599.000000       1599.000000  1599.000000     1599.000000   \n",
       "mean        8.319637          0.527821     0.270976        2.538806   \n",
       "std         1.741096          0.179060     0.194801        1.409928   \n",
       "min         4.600000          0.120000     0.000000        0.900000   \n",
       "25%         7.100000          0.390000     0.090000        1.900000   \n",
       "50%         7.900000          0.520000     0.260000        2.200000   \n",
       "75%         9.200000          0.640000     0.420000        2.600000   \n",
       "max        15.900000          1.580000     1.000000       15.500000   \n",
       "\n",
       "         chlorides  free sulfur dioxide  total sulfur dioxide      density  \\\n",
       "count  1599.000000          1599.000000           1599.000000  1599.000000   \n",
       "mean      0.087467            15.874922             46.467792     0.996747   \n",
       "std       0.047065            10.460157             32.895324     0.001887   \n",
       "min       0.012000             1.000000              6.000000     0.990070   \n",
       "25%       0.070000             7.000000             22.000000     0.995600   \n",
       "50%       0.079000            14.000000             38.000000     0.996750   \n",
       "75%       0.090000            21.000000             62.000000     0.997835   \n",
       "max       0.611000            72.000000            289.000000     1.003690   \n",
       "\n",
       "                pH    sulphates      alcohol      quality  \n",
       "count  1599.000000  1599.000000  1599.000000  1599.000000  \n",
       "mean      3.311113     0.658149    10.422983     5.636023  \n",
       "std       0.154386     0.169507     1.065668     0.807569  \n",
       "min       2.740000     0.330000     8.400000     3.000000  \n",
       "25%       3.210000     0.550000     9.500000     5.000000  \n",
       "50%       3.310000     0.620000    10.200000     6.000000  \n",
       "75%       3.400000     0.730000    11.100000     6.000000  \n",
       "max       4.010000     2.000000    14.900000     8.000000  "
      ]
     },
     "execution_count": 114,
     "metadata": {},
     "output_type": "execute_result"
    }
   ],
   "source": [
    "df.describe(include='all')"
   ]
  },
  {
   "cell_type": "code",
   "execution_count": 115,
   "id": "metric-northeast",
   "metadata": {},
   "outputs": [
    {
     "data": {
      "text/plain": [
       "5    681\n",
       "6    638\n",
       "7    199\n",
       "4     53\n",
       "8     18\n",
       "3     10\n",
       "Name: quality, dtype: int64"
      ]
     },
     "execution_count": 115,
     "metadata": {},
     "output_type": "execute_result"
    }
   ],
   "source": [
    "df['quality'].value_counts()\n",
    "#несбалансированная выборка"
   ]
  },
  {
   "cell_type": "code",
   "execution_count": 131,
   "id": "stone-brighton",
   "metadata": {},
   "outputs": [],
   "source": [
    "#объединим\n",
    "df['quality'] = df['quality'].replace(to_replace=3, value=4).replace(8, 7).replace(4, 5)\n"
   ]
  },
  {
   "cell_type": "code",
   "execution_count": 132,
   "id": "textile-papua",
   "metadata": {},
   "outputs": [
    {
     "data": {
      "text/plain": [
       "5    744\n",
       "6    638\n",
       "7    217\n",
       "Name: quality, dtype: int64"
      ]
     },
     "execution_count": 132,
     "metadata": {},
     "output_type": "execute_result"
    }
   ],
   "source": [
    "df['quality'].value_counts()\n"
   ]
  },
  {
   "cell_type": "code",
   "execution_count": 133,
   "id": "comparable-david",
   "metadata": {},
   "outputs": [],
   "source": [
    "X = df.iloc[:, :-1].values  \n",
    "y = df.iloc[:, 11].values  "
   ]
  },
  {
   "cell_type": "code",
   "execution_count": 134,
   "id": "assigned-movie",
   "metadata": {},
   "outputs": [],
   "source": [
    "#  разделяю на обучающую и тестовую выборку\n",
    "\n",
    "from sklearn.model_selection import train_test_split  \n",
    "X_train, X_test, y_train, y_test = train_test_split(X, y, test_size=0.2, random_state=1234)  \n"
   ]
  },
  {
   "cell_type": "code",
   "execution_count": 135,
   "id": "manual-cartoon",
   "metadata": {},
   "outputs": [
    {
     "name": "stderr",
     "output_type": "stream",
     "text": [
      "[Parallel(n_jobs=1)]: Using backend SequentialBackend with 1 concurrent workers.\n",
      "[Parallel(n_jobs=1)]: Done  80 out of  80 | elapsed:    0.1s finished\n"
     ]
    },
    {
     "data": {
      "text/plain": [
       "RandomForestClassifier(max_depth=5, n_estimators=80, oob_score=True,\n",
       "                       random_state=42, verbose=1)"
      ]
     },
     "execution_count": 135,
     "metadata": {},
     "output_type": "execute_result"
    }
   ],
   "source": [
    "# Инициализируем модель\n",
    "\n",
    "from sklearn.ensemble import RandomForestClassifier\n",
    "\n",
    "model = RandomForestClassifier(random_state=42,\n",
    "                               # число деревьев в лесу\n",
    "                               n_estimators=80,\n",
    "                               # функция для impurity ('gini' или 'entropy')\n",
    "                               criterion='gini',\n",
    "                               # то ли число слоев, то ли число расщеплений  \n",
    "                               #  ?????????????????  но не число узлов\n",
    "                               max_depth=5,\n",
    "                               # сколько переменных использовать при построении дерева?\n",
    "                               # sqrt(k)\n",
    "                               max_features='auto', \n",
    "                               # максимальное число конечных узлов. Сейчас - без ограничений\n",
    "                               max_leaf_nodes=None,\n",
    "                               # минимальное уменьшение загрязнения \n",
    "                               min_impurity_decrease=0.0, \n",
    "                               # Устарело\n",
    "                               min_impurity_split=None,\n",
    "                               # Дерево обучается по части наблюдений (По какой???)\n",
    "                               bootstrap=True, \n",
    "                               # минимальное число наблюдений в узле потомке\n",
    "                               min_samples_leaf=1, \n",
    "                               # минимальное число наблюдений в узле родителе\n",
    "                               min_samples_split=2,\n",
    "                               # параметр используется редко, самостоятельно\n",
    "                               min_weight_fraction_leaf=0.0, \n",
    "                               # объем промежуточных результатов в ходе обучения\n",
    "                               verbose=1, \n",
    "                               # число используемых процессоров\n",
    "                               # n_jobs=None,\n",
    "                               # Вычислять out-of-bag ошибку\n",
    "                               oob_score=True,\n",
    "                               # использовать результаты предыдущего вызова и нарастить предыдущий лес \n",
    "                               warm_start=False,\n",
    "                               # веса классов для балансировки обучения\n",
    "                               class_weight=None)\n",
    "\n",
    "model.fit(X_train, y_train)"
   ]
  },
  {
   "cell_type": "code",
   "execution_count": 136,
   "id": "limiting-antigua",
   "metadata": {},
   "outputs": [],
   "source": [
    "# Активируем поиск на решетке GridSearchCV\n",
    "from sklearn.model_selection import GridSearchCV\n",
    "\n",
    "param_grid = {  \n",
    "      'n_estimators': [30, 100, 200],\n",
    "      'max_depth': [4, 5, 6],\n",
    "      'min_samples_split': [8, 10, 12, 14]\n",
    "  }\n"
   ]
  },
  {
   "cell_type": "code",
   "execution_count": 137,
   "id": "adjusted-wages",
   "metadata": {},
   "outputs": [],
   "source": [
    "model2 = RandomForestClassifier(random_state=42, class_weight=None)\n",
    "grid_search_res = GridSearchCV(model2, param_grid=param_grid, cv=2, error_score='raise', \n",
    "                               pre_dispatch='2*n_jobs', refit=True, scoring='accuracy', verbose=0)\n"
   ]
  },
  {
   "cell_type": "code",
   "execution_count": 138,
   "id": "reserved-nomination",
   "metadata": {},
   "outputs": [
    {
     "data": {
      "text/plain": [
       "GridSearchCV(cv=2, error_score='raise',\n",
       "             estimator=RandomForestClassifier(random_state=42),\n",
       "             param_grid={'max_depth': [4, 5, 6],\n",
       "                         'min_samples_split': [8, 10, 12, 14],\n",
       "                         'n_estimators': [30, 100, 200]},\n",
       "             scoring='accuracy')"
      ]
     },
     "execution_count": 138,
     "metadata": {},
     "output_type": "execute_result"
    }
   ],
   "source": [
    "grid_search_res.fit(X_train, y_train)"
   ]
  },
  {
   "cell_type": "code",
   "execution_count": 139,
   "id": "electoral-trout",
   "metadata": {},
   "outputs": [
    {
     "data": {
      "text/plain": [
       "{'mean_fit_time': array([0.04876435, 0.12768793, 0.25049531, 0.03679848, 0.13071775,\n",
       "        0.2394588 , 0.03642333, 0.1203711 , 0.24076915, 0.03692639,\n",
       "        0.12193918, 0.24897766, 0.04390502, 0.12975395, 0.25926244,\n",
       "        0.03733206, 0.12552655, 0.28447032, 0.03480518, 0.13396716,\n",
       "        0.26913595, 0.04250062, 0.13673222, 0.24799573, 0.04367101,\n",
       "        0.15540266, 0.27769387, 0.04271984, 0.14470625, 0.27702844,\n",
       "        0.03936195, 0.1323607 , 0.28959739, 0.04586351, 0.14420879,\n",
       "        0.25824761]),\n",
       " 'std_fit_time': array([6.54065609e-03, 4.76837158e-04, 7.07900524e-03, 4.66823578e-04,\n",
       "        4.60767746e-03, 6.20174408e-03, 1.22904778e-04, 2.59804726e-03,\n",
       "        1.44290924e-03, 5.33461571e-04, 1.78813934e-05, 1.40736103e-02,\n",
       "        3.00407410e-04, 4.84836102e-03, 1.70379877e-02, 1.11746788e-03,\n",
       "        2.79653072e-03, 1.45685673e-02, 4.78029251e-05, 1.12874508e-02,\n",
       "        9.86957550e-03, 8.00013542e-04, 6.40857220e-03, 1.18851662e-04,\n",
       "        9.66787338e-05, 4.70066071e-03, 2.11676359e-02, 6.50167465e-04,\n",
       "        4.63604927e-03, 1.17146969e-03, 2.01439857e-03, 5.76162338e-03,\n",
       "        9.71615314e-03, 3.18288803e-05, 8.78489017e-03, 8.92305374e-03]),\n",
       " 'mean_score_time': array([0.00411868, 0.01276314, 0.02319491, 0.00385261, 0.01198125,\n",
       "        0.02301228, 0.003865  , 0.01123357, 0.02225792, 0.00385463,\n",
       "        0.01179421, 0.02244341, 0.00486088, 0.01185322, 0.02244163,\n",
       "        0.00394714, 0.01182616, 0.02254415, 0.00355172, 0.01572132,\n",
       "        0.02449095, 0.00441504, 0.01212049, 0.02254772, 0.00442266,\n",
       "        0.01434374, 0.02523637, 0.00678408, 0.01311648, 0.02613223,\n",
       "        0.00394285, 0.01185906, 0.0243392 , 0.00477731, 0.01250553,\n",
       "        0.0243423 ]),\n",
       " 'std_score_time': array([8.41617584e-05, 1.31094456e-03, 1.22427940e-04, 2.38418579e-06,\n",
       "        1.25408173e-04, 7.81178474e-04, 2.69412994e-05, 3.19957733e-04,\n",
       "        5.65171242e-04, 1.32322311e-05, 5.09023666e-05, 2.45177746e-03,\n",
       "        3.55243683e-05, 8.85486603e-04, 7.02381134e-04, 3.10301781e-04,\n",
       "        8.54134560e-04, 1.07693672e-03, 8.10623169e-05, 4.03881073e-03,\n",
       "        6.33001328e-05, 1.63793564e-04, 9.32216644e-05, 1.31273270e-03,\n",
       "        1.38282776e-05, 9.88960266e-04, 4.14848328e-04, 1.98829174e-03,\n",
       "        8.07881355e-04, 2.21788883e-03, 5.20944595e-05, 5.74946404e-04,\n",
       "        5.73873520e-04, 4.64916229e-06, 1.79052353e-04, 6.81877136e-05]),\n",
       " 'param_max_depth': masked_array(data=[4, 4, 4, 4, 4, 4, 4, 4, 4, 4, 4, 4, 5, 5, 5, 5, 5, 5,\n",
       "                    5, 5, 5, 5, 5, 5, 6, 6, 6, 6, 6, 6, 6, 6, 6, 6, 6, 6],\n",
       "              mask=[False, False, False, False, False, False, False, False,\n",
       "                    False, False, False, False, False, False, False, False,\n",
       "                    False, False, False, False, False, False, False, False,\n",
       "                    False, False, False, False, False, False, False, False,\n",
       "                    False, False, False, False],\n",
       "        fill_value='?',\n",
       "             dtype=object),\n",
       " 'param_min_samples_split': masked_array(data=[8, 8, 8, 10, 10, 10, 12, 12, 12, 14, 14, 14, 8, 8, 8,\n",
       "                    10, 10, 10, 12, 12, 12, 14, 14, 14, 8, 8, 8, 10, 10,\n",
       "                    10, 12, 12, 12, 14, 14, 14],\n",
       "              mask=[False, False, False, False, False, False, False, False,\n",
       "                    False, False, False, False, False, False, False, False,\n",
       "                    False, False, False, False, False, False, False, False,\n",
       "                    False, False, False, False, False, False, False, False,\n",
       "                    False, False, False, False],\n",
       "        fill_value='?',\n",
       "             dtype=object),\n",
       " 'param_n_estimators': masked_array(data=[30, 100, 200, 30, 100, 200, 30, 100, 200, 30, 100, 200,\n",
       "                    30, 100, 200, 30, 100, 200, 30, 100, 200, 30, 100, 200,\n",
       "                    30, 100, 200, 30, 100, 200, 30, 100, 200, 30, 100, 200],\n",
       "              mask=[False, False, False, False, False, False, False, False,\n",
       "                    False, False, False, False, False, False, False, False,\n",
       "                    False, False, False, False, False, False, False, False,\n",
       "                    False, False, False, False, False, False, False, False,\n",
       "                    False, False, False, False],\n",
       "        fill_value='?',\n",
       "             dtype=object),\n",
       " 'params': [{'max_depth': 4, 'min_samples_split': 8, 'n_estimators': 30},\n",
       "  {'max_depth': 4, 'min_samples_split': 8, 'n_estimators': 100},\n",
       "  {'max_depth': 4, 'min_samples_split': 8, 'n_estimators': 200},\n",
       "  {'max_depth': 4, 'min_samples_split': 10, 'n_estimators': 30},\n",
       "  {'max_depth': 4, 'min_samples_split': 10, 'n_estimators': 100},\n",
       "  {'max_depth': 4, 'min_samples_split': 10, 'n_estimators': 200},\n",
       "  {'max_depth': 4, 'min_samples_split': 12, 'n_estimators': 30},\n",
       "  {'max_depth': 4, 'min_samples_split': 12, 'n_estimators': 100},\n",
       "  {'max_depth': 4, 'min_samples_split': 12, 'n_estimators': 200},\n",
       "  {'max_depth': 4, 'min_samples_split': 14, 'n_estimators': 30},\n",
       "  {'max_depth': 4, 'min_samples_split': 14, 'n_estimators': 100},\n",
       "  {'max_depth': 4, 'min_samples_split': 14, 'n_estimators': 200},\n",
       "  {'max_depth': 5, 'min_samples_split': 8, 'n_estimators': 30},\n",
       "  {'max_depth': 5, 'min_samples_split': 8, 'n_estimators': 100},\n",
       "  {'max_depth': 5, 'min_samples_split': 8, 'n_estimators': 200},\n",
       "  {'max_depth': 5, 'min_samples_split': 10, 'n_estimators': 30},\n",
       "  {'max_depth': 5, 'min_samples_split': 10, 'n_estimators': 100},\n",
       "  {'max_depth': 5, 'min_samples_split': 10, 'n_estimators': 200},\n",
       "  {'max_depth': 5, 'min_samples_split': 12, 'n_estimators': 30},\n",
       "  {'max_depth': 5, 'min_samples_split': 12, 'n_estimators': 100},\n",
       "  {'max_depth': 5, 'min_samples_split': 12, 'n_estimators': 200},\n",
       "  {'max_depth': 5, 'min_samples_split': 14, 'n_estimators': 30},\n",
       "  {'max_depth': 5, 'min_samples_split': 14, 'n_estimators': 100},\n",
       "  {'max_depth': 5, 'min_samples_split': 14, 'n_estimators': 200},\n",
       "  {'max_depth': 6, 'min_samples_split': 8, 'n_estimators': 30},\n",
       "  {'max_depth': 6, 'min_samples_split': 8, 'n_estimators': 100},\n",
       "  {'max_depth': 6, 'min_samples_split': 8, 'n_estimators': 200},\n",
       "  {'max_depth': 6, 'min_samples_split': 10, 'n_estimators': 30},\n",
       "  {'max_depth': 6, 'min_samples_split': 10, 'n_estimators': 100},\n",
       "  {'max_depth': 6, 'min_samples_split': 10, 'n_estimators': 200},\n",
       "  {'max_depth': 6, 'min_samples_split': 12, 'n_estimators': 30},\n",
       "  {'max_depth': 6, 'min_samples_split': 12, 'n_estimators': 100},\n",
       "  {'max_depth': 6, 'min_samples_split': 12, 'n_estimators': 200},\n",
       "  {'max_depth': 6, 'min_samples_split': 14, 'n_estimators': 30},\n",
       "  {'max_depth': 6, 'min_samples_split': 14, 'n_estimators': 100},\n",
       "  {'max_depth': 6, 'min_samples_split': 14, 'n_estimators': 200}],\n",
       " 'split0_test_score': array([0.628125 , 0.625    , 0.61875  , 0.6171875, 0.621875 , 0.615625 ,\n",
       "        0.6234375, 0.6265625, 0.6234375, 0.625    , 0.6265625, 0.6140625,\n",
       "        0.6265625, 0.6296875, 0.625    , 0.621875 , 0.6296875, 0.6203125,\n",
       "        0.609375 , 0.63125  , 0.6234375, 0.628125 , 0.6203125, 0.6265625,\n",
       "        0.63125  , 0.628125 , 0.6375   , 0.634375 , 0.6375   , 0.6359375,\n",
       "        0.621875 , 0.625    , 0.6375   , 0.63125  , 0.6359375, 0.6375   ]),\n",
       " 'split1_test_score': array([0.66979656, 0.64162754, 0.6400626 , 0.66979656, 0.64788732,\n",
       "        0.63849765, 0.66040689, 0.64319249, 0.63693271, 0.66197183,\n",
       "        0.64162754, 0.63067293, 0.64788732, 0.64788732, 0.65101721,\n",
       "        0.66510172, 0.64945227, 0.65101721, 0.65258216, 0.6541471 ,\n",
       "        0.66040689, 0.66353678, 0.64632238, 0.64788732, 0.66666667,\n",
       "        0.65884194, 0.66979656, 0.66510172, 0.66510172, 0.6713615 ,\n",
       "        0.67292645, 0.66353678, 0.66666667, 0.66979656, 0.66197183,\n",
       "        0.66510172]),\n",
       " 'mean_test_score': array([0.64896078, 0.63331377, 0.6294063 , 0.64349203, 0.63488116,\n",
       "        0.62706133, 0.64192219, 0.63487749, 0.6301851 , 0.64348592,\n",
       "        0.63409502, 0.62236771, 0.63722491, 0.63878741, 0.63800861,\n",
       "        0.64348836, 0.63956988, 0.63566486, 0.63097858, 0.64269855,\n",
       "        0.64192219, 0.64583089, 0.63331744, 0.63722491, 0.64895833,\n",
       "        0.64348347, 0.65364828, 0.64973836, 0.65130086, 0.6536495 ,\n",
       "        0.64740072, 0.64426839, 0.65208333, 0.65052328, 0.64895467,\n",
       "        0.65130086]),\n",
       " 'std_test_score': array([0.02083578, 0.00831377, 0.0106563 , 0.02630453, 0.01300616,\n",
       "        0.01143633, 0.01848469, 0.00831499, 0.0067476 , 0.01848592,\n",
       "        0.00753252, 0.00830521, 0.01066241, 0.00909991, 0.01300861,\n",
       "        0.02161336, 0.00988238, 0.01535236, 0.02160358, 0.01144855,\n",
       "        0.01848469, 0.01770589, 0.01300494, 0.01066241, 0.01770833,\n",
       "        0.01535847, 0.01614828, 0.01536336, 0.01380086, 0.017712  ,\n",
       "        0.02552572, 0.01926839, 0.01458333, 0.01927328, 0.01301717,\n",
       "        0.01380086]),\n",
       " 'rank_test_score': array([ 8, 31, 34, 14, 27, 35, 19, 28, 33, 16, 29, 36, 24, 22, 23, 15, 21,\n",
       "        26, 32, 18, 19, 12, 30, 24,  9, 17,  2,  7,  4,  1, 11, 13,  3,  6,\n",
       "        10,  4], dtype=int32)}"
      ]
     },
     "execution_count": 139,
     "metadata": {},
     "output_type": "execute_result"
    }
   ],
   "source": [
    "grid_search_res.cv_results_"
   ]
  },
  {
   "cell_type": "code",
   "execution_count": 140,
   "id": "educated-cleveland",
   "metadata": {},
   "outputs": [],
   "source": [
    "# Строим предсказание модели\n",
    "y_pred_train = grid_search_res.predict(X_train)\n",
    "y_pred_test = grid_search_res.predict(X_test)"
   ]
  },
  {
   "cell_type": "code",
   "execution_count": 141,
   "id": "first-criterion",
   "metadata": {},
   "outputs": [
    {
     "data": {
      "text/html": [
       "<div>\n",
       "<style scoped>\n",
       "    .dataframe tbody tr th:only-of-type {\n",
       "        vertical-align: middle;\n",
       "    }\n",
       "\n",
       "    .dataframe tbody tr th {\n",
       "        vertical-align: top;\n",
       "    }\n",
       "\n",
       "    .dataframe thead th {\n",
       "        text-align: right;\n",
       "    }\n",
       "</style>\n",
       "<table border=\"1\" class=\"dataframe\">\n",
       "  <thead>\n",
       "    <tr style=\"text-align: right;\">\n",
       "      <th></th>\n",
       "      <th>5</th>\n",
       "      <th>6</th>\n",
       "      <th>7</th>\n",
       "    </tr>\n",
       "  </thead>\n",
       "  <tbody>\n",
       "    <tr>\n",
       "      <th>5</th>\n",
       "      <td>125</td>\n",
       "      <td>22</td>\n",
       "      <td>1</td>\n",
       "    </tr>\n",
       "    <tr>\n",
       "      <th>6</th>\n",
       "      <td>36</td>\n",
       "      <td>86</td>\n",
       "      <td>9</td>\n",
       "    </tr>\n",
       "    <tr>\n",
       "      <th>7</th>\n",
       "      <td>2</td>\n",
       "      <td>22</td>\n",
       "      <td>17</td>\n",
       "    </tr>\n",
       "  </tbody>\n",
       "</table>\n",
       "</div>"
      ],
      "text/plain": [
       "     5   6   7\n",
       "5  125  22   1\n",
       "6   36  86   9\n",
       "7    2  22  17"
      ]
     },
     "execution_count": 141,
     "metadata": {},
     "output_type": "execute_result"
    }
   ],
   "source": [
    "from sklearn import metrics\n",
    "conf_mat = metrics.confusion_matrix(y_test, y_pred_test)\n",
    "conf_mat = pd.DataFrame(conf_mat, index=grid_search_res.classes_, columns=grid_search_res.classes_)\n",
    "conf_mat"
   ]
  },
  {
   "cell_type": "code",
   "execution_count": 142,
   "id": "lasting-desktop",
   "metadata": {},
   "outputs": [
    {
     "data": {
      "text/html": [
       "<div>\n",
       "<style scoped>\n",
       "    .dataframe tbody tr th:only-of-type {\n",
       "        vertical-align: middle;\n",
       "    }\n",
       "\n",
       "    .dataframe tbody tr th {\n",
       "        vertical-align: top;\n",
       "    }\n",
       "\n",
       "    .dataframe thead th {\n",
       "        text-align: right;\n",
       "    }\n",
       "</style>\n",
       "<table border=\"1\" class=\"dataframe\">\n",
       "  <thead>\n",
       "    <tr style=\"text-align: right;\">\n",
       "      <th></th>\n",
       "      <th>5</th>\n",
       "      <th>6</th>\n",
       "      <th>7</th>\n",
       "    </tr>\n",
       "  </thead>\n",
       "  <tbody>\n",
       "    <tr>\n",
       "      <th>5</th>\n",
       "      <td>512</td>\n",
       "      <td>81</td>\n",
       "      <td>3</td>\n",
       "    </tr>\n",
       "    <tr>\n",
       "      <th>6</th>\n",
       "      <td>105</td>\n",
       "      <td>394</td>\n",
       "      <td>8</td>\n",
       "    </tr>\n",
       "    <tr>\n",
       "      <th>7</th>\n",
       "      <td>6</td>\n",
       "      <td>75</td>\n",
       "      <td>95</td>\n",
       "    </tr>\n",
       "  </tbody>\n",
       "</table>\n",
       "</div>"
      ],
      "text/plain": [
       "     5    6   7\n",
       "5  512   81   3\n",
       "6  105  394   8\n",
       "7    6   75  95"
      ]
     },
     "execution_count": 142,
     "metadata": {},
     "output_type": "execute_result"
    }
   ],
   "source": [
    "conf_mat = metrics.confusion_matrix(y_train, y_pred_train)\n",
    "conf_mat = pd.DataFrame(conf_mat, index=grid_search_res.classes_, columns=grid_search_res.classes_)\n",
    "conf_mat"
   ]
  },
  {
   "cell_type": "code",
   "execution_count": 143,
   "id": "available-anchor",
   "metadata": {},
   "outputs": [
    {
     "name": "stdout",
     "output_type": "stream",
     "text": [
      "Доля наблюдений в тестовой выборке, для которых есть класс, вероятность принадлежать которому больше 0.8 равна 9.6875 %\n"
     ]
    }
   ],
   "source": [
    "# Строим предсказание модели\n",
    "y_pred_train2 = grid_search_res.predict_proba(X_train)\n",
    "y_pred_test2 = grid_search_res.predict_proba(X_test)\n",
    "part = sum(np.sum(y_pred_test2>0.8, axis =1))/np.shape(y_pred_test2)[0]*100\n",
    "print('Доля наблюдений в тестовой выборке, для которых есть класс, вероятность принадлежать которому больше 0.8 равна',part,'%')"
   ]
  },
  {
   "cell_type": "code",
   "execution_count": 144,
   "id": "sticky-essay",
   "metadata": {},
   "outputs": [
    {
     "name": "stdout",
     "output_type": "stream",
     "text": [
      "              precision    recall  f1-score   support\n",
      "\n",
      "           5       0.84      0.77      0.80       163\n",
      "           6       0.66      0.66      0.66       130\n",
      "           7       0.41      0.63      0.50        27\n",
      "\n",
      "    accuracy                           0.71       320\n",
      "   macro avg       0.64      0.69      0.65       320\n",
      "weighted avg       0.73      0.71      0.72       320\n",
      "\n"
     ]
    }
   ],
   "source": [
    "y_pred_train2 = grid_search_res.predict(X_train)\n",
    "y_pred_test2 = grid_search_res.predict(X_test)\n",
    "print(metrics.classification_report(y_pred_test2, y_test))"
   ]
  },
  {
   "cell_type": "code",
   "execution_count": 145,
   "id": "sapphire-translation",
   "metadata": {},
   "outputs": [
    {
     "name": "stdout",
     "output_type": "stream",
     "text": [
      "Лучшее accuracy на тестовом множестве 0.7125\n"
     ]
    }
   ],
   "source": [
    "best_CV_score = grid_search_res.best_estimator_\n",
    "test_acc = best_CV_score.score(X_test,y_test)\n",
    "# начение критерия качества для лучших значений гиперпараметров \n",
    "print('Лучшее accuracy на тестовом множестве', test_acc)"
   ]
  },
  {
   "cell_type": "markdown",
   "id": "blocked-gabriel",
   "metadata": {},
   "source": [
    "## Калибровка"
   ]
  },
  {
   "cell_type": "code",
   "execution_count": 146,
   "id": "hairy-dayton",
   "metadata": {},
   "outputs": [],
   "source": [
    "from sklearn.calibration import CalibratedClassifierCV"
   ]
  },
  {
   "cell_type": "code",
   "execution_count": 147,
   "id": "smart-helmet",
   "metadata": {},
   "outputs": [],
   "source": [
    "model_sigmoid = CalibratedClassifierCV(grid_search_res, cv=2, method='sigmoid')"
   ]
  },
  {
   "cell_type": "code",
   "execution_count": 148,
   "id": "acceptable-china",
   "metadata": {},
   "outputs": [
    {
     "data": {
      "text/plain": [
       "CalibratedClassifierCV(base_estimator=GridSearchCV(cv=2, error_score='raise',\n",
       "                                                   estimator=RandomForestClassifier(random_state=42),\n",
       "                                                   param_grid={'max_depth': [4,\n",
       "                                                                             5,\n",
       "                                                                             6],\n",
       "                                                               'min_samples_split': [8,\n",
       "                                                                                     10,\n",
       "                                                                                     12,\n",
       "                                                                                     14],\n",
       "                                                               'n_estimators': [30,\n",
       "                                                                                100,\n",
       "                                                                                200]},\n",
       "                                                   scoring='accuracy'),\n",
       "                       cv=2)"
      ]
     },
     "execution_count": 148,
     "metadata": {},
     "output_type": "execute_result"
    }
   ],
   "source": [
    "model_sigmoid.fit(X_train, y_train)"
   ]
  },
  {
   "cell_type": "code",
   "execution_count": 149,
   "id": "every-participant",
   "metadata": {},
   "outputs": [
    {
     "name": "stdout",
     "output_type": "stream",
     "text": [
      "              precision    recall  f1-score   support\n",
      "\n",
      "           5       0.84      0.76      0.79       164\n",
      "           6       0.60      0.65      0.62       122\n",
      "           7       0.44      0.53      0.48        34\n",
      "\n",
      "    accuracy                           0.69       320\n",
      "   macro avg       0.63      0.64      0.63       320\n",
      "weighted avg       0.71      0.69      0.70       320\n",
      "\n"
     ]
    }
   ],
   "source": [
    "y_pred_train3 = model_sigmoid.predict(X_train)\n",
    "y_pred_test3 = model_sigmoid.predict(X_test)\n",
    "print(metrics.classification_report(y_pred_test3, y_test))"
   ]
  },
  {
   "cell_type": "code",
   "execution_count": null,
   "id": "curious-excitement",
   "metadata": {},
   "outputs": [],
   "source": []
  }
 ],
 "metadata": {
  "kernelspec": {
   "display_name": "Python 3",
   "language": "python",
   "name": "python3"
  },
  "language_info": {
   "codemirror_mode": {
    "name": "ipython",
    "version": 3
   },
   "file_extension": ".py",
   "mimetype": "text/x-python",
   "name": "python",
   "nbconvert_exporter": "python",
   "pygments_lexer": "ipython3",
   "version": "3.8.5"
  }
 },
 "nbformat": 4,
 "nbformat_minor": 5
}
